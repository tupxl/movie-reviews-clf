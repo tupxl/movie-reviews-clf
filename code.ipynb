{
 "cells": [
  {
   "cell_type": "code",
   "execution_count": 32,
   "id": "fe351882",
   "metadata": {},
   "outputs": [],
   "source": [
    "import numpy as np\n",
    "import pandas as pd"
   ]
  },
  {
   "cell_type": "code",
   "execution_count": 33,
   "id": "a0eff5f6",
   "metadata": {},
   "outputs": [],
   "source": [
    "df = pd.read_csv('dataset/moviereviews.tsv', sep='\\t')"
   ]
  },
  {
   "cell_type": "code",
   "execution_count": 34,
   "id": "4725b96f",
   "metadata": {},
   "outputs": [
    {
     "data": {
      "text/html": [
       "<div>\n",
       "<style scoped>\n",
       "    .dataframe tbody tr th:only-of-type {\n",
       "        vertical-align: middle;\n",
       "    }\n",
       "\n",
       "    .dataframe tbody tr th {\n",
       "        vertical-align: top;\n",
       "    }\n",
       "\n",
       "    .dataframe thead th {\n",
       "        text-align: right;\n",
       "    }\n",
       "</style>\n",
       "<table border=\"1\" class=\"dataframe\">\n",
       "  <thead>\n",
       "    <tr style=\"text-align: right;\">\n",
       "      <th></th>\n",
       "      <th>label</th>\n",
       "      <th>review</th>\n",
       "    </tr>\n",
       "  </thead>\n",
       "  <tbody>\n",
       "    <tr>\n",
       "      <th>0</th>\n",
       "      <td>neg</td>\n",
       "      <td>how do films like mouse hunt get into theatres...</td>\n",
       "    </tr>\n",
       "    <tr>\n",
       "      <th>1</th>\n",
       "      <td>neg</td>\n",
       "      <td>some talented actresses are blessed with a dem...</td>\n",
       "    </tr>\n",
       "    <tr>\n",
       "      <th>2</th>\n",
       "      <td>pos</td>\n",
       "      <td>this has been an extraordinary year for austra...</td>\n",
       "    </tr>\n",
       "    <tr>\n",
       "      <th>3</th>\n",
       "      <td>pos</td>\n",
       "      <td>according to hollywood movies made in last few...</td>\n",
       "    </tr>\n",
       "    <tr>\n",
       "      <th>4</th>\n",
       "      <td>neg</td>\n",
       "      <td>my first press screening of 1998 and already i...</td>\n",
       "    </tr>\n",
       "  </tbody>\n",
       "</table>\n",
       "</div>"
      ],
      "text/plain": [
       "  label                                             review\n",
       "0   neg  how do films like mouse hunt get into theatres...\n",
       "1   neg  some talented actresses are blessed with a dem...\n",
       "2   pos  this has been an extraordinary year for austra...\n",
       "3   pos  according to hollywood movies made in last few...\n",
       "4   neg  my first press screening of 1998 and already i..."
      ]
     },
     "execution_count": 34,
     "metadata": {},
     "output_type": "execute_result"
    }
   ],
   "source": [
    "df.head()"
   ]
  },
  {
   "cell_type": "code",
   "execution_count": 35,
   "id": "26a5cf38",
   "metadata": {},
   "outputs": [
    {
     "data": {
      "text/plain": [
       "2000"
      ]
     },
     "execution_count": 35,
     "metadata": {},
     "output_type": "execute_result"
    }
   ],
   "source": [
    "len(df)"
   ]
  },
  {
   "cell_type": "code",
   "execution_count": 36,
   "id": "580aac18",
   "metadata": {},
   "outputs": [
    {
     "data": {
      "text/plain": [
       "pos    1000\n",
       "neg    1000\n",
       "Name: label, dtype: int64"
      ]
     },
     "execution_count": 36,
     "metadata": {},
     "output_type": "execute_result"
    }
   ],
   "source": [
    "df['label'].value_counts()"
   ]
  },
  {
   "cell_type": "code",
   "execution_count": 37,
   "id": "df0e677f",
   "metadata": {},
   "outputs": [
    {
     "data": {
      "text/plain": [
       "label      0\n",
       "review    35\n",
       "dtype: int64"
      ]
     },
     "execution_count": 37,
     "metadata": {},
     "output_type": "execute_result"
    }
   ],
   "source": [
    "df.isnull().sum()"
   ]
  },
  {
   "cell_type": "code",
   "execution_count": 38,
   "id": "a68feeaa",
   "metadata": {},
   "outputs": [],
   "source": [
    "df = df.dropna() # Remove NaN or none review"
   ]
  },
  {
   "cell_type": "code",
   "execution_count": 39,
   "id": "d644451d",
   "metadata": {},
   "outputs": [
    {
     "data": {
      "text/plain": [
       "label     0\n",
       "review    0\n",
       "dtype: int64"
      ]
     },
     "execution_count": 39,
     "metadata": {},
     "output_type": "execute_result"
    }
   ],
   "source": [
    "df.isnull().sum()"
   ]
  },
  {
   "cell_type": "code",
   "execution_count": 40,
   "id": "9503ae25",
   "metadata": {},
   "outputs": [
    {
     "data": {
      "text/plain": [
       "1965"
      ]
     },
     "execution_count": 40,
     "metadata": {},
     "output_type": "execute_result"
    }
   ],
   "source": [
    "len(df)"
   ]
  },
  {
   "cell_type": "code",
   "execution_count": 41,
   "id": "d1b444d8",
   "metadata": {},
   "outputs": [],
   "source": [
    "def detect_blanks(df):\n",
    "    contains_blank = list()\n",
    "    for index, label, review in df.itertuples():\n",
    "        if type(review)==str:\n",
    "            if review.isspace():\n",
    "                contains_blank.append(index)\n",
    "    print(f\"This df contains {len(contains_blank)} blanks\")\n",
    "    return contains_blank"
   ]
  },
  {
   "cell_type": "code",
   "execution_count": 42,
   "id": "228be725",
   "metadata": {},
   "outputs": [
    {
     "name": "stdout",
     "output_type": "stream",
     "text": [
      "This df contains 27 blanks\n"
     ]
    }
   ],
   "source": [
    "contain_blanks = detect_blanks(df)"
   ]
  },
  {
   "cell_type": "code",
   "execution_count": 43,
   "id": "9aad2229",
   "metadata": {},
   "outputs": [
    {
     "data": {
      "text/plain": [
       "[57, 71, 147, 151, 283]"
      ]
     },
     "execution_count": 43,
     "metadata": {},
     "output_type": "execute_result"
    }
   ],
   "source": [
    "contain_blanks[:5]"
   ]
  },
  {
   "cell_type": "code",
   "execution_count": 44,
   "id": "bb14ea17",
   "metadata": {},
   "outputs": [
    {
     "data": {
      "text/plain": [
       "label     neg\n",
       "review       \n",
       "Name: 57, dtype: object"
      ]
     },
     "execution_count": 44,
     "metadata": {},
     "output_type": "execute_result"
    }
   ],
   "source": [
    "df.iloc[57]"
   ]
  },
  {
   "cell_type": "code",
   "execution_count": 45,
   "id": "21e9570d",
   "metadata": {},
   "outputs": [],
   "source": [
    "df = df.drop(contain_blanks)"
   ]
  },
  {
   "cell_type": "code",
   "execution_count": 46,
   "id": "41e46d00",
   "metadata": {},
   "outputs": [
    {
     "data": {
      "text/plain": [
       "1938"
      ]
     },
     "execution_count": 46,
     "metadata": {},
     "output_type": "execute_result"
    }
   ],
   "source": [
    "len(df)"
   ]
  },
  {
   "cell_type": "code",
   "execution_count": 47,
   "id": "d7572a6c",
   "metadata": {},
   "outputs": [
    {
     "name": "stdout",
     "output_type": "stream",
     "text": [
      "This df contains 0 blanks\n"
     ]
    },
    {
     "data": {
      "text/plain": [
       "[]"
      ]
     },
     "execution_count": 47,
     "metadata": {},
     "output_type": "execute_result"
    }
   ],
   "source": [
    "detect_blanks(df)"
   ]
  },
  {
   "cell_type": "code",
   "execution_count": 48,
   "id": "ecb5128d",
   "metadata": {},
   "outputs": [
    {
     "data": {
      "text/plain": [
       "pos    969\n",
       "neg    969\n",
       "Name: label, dtype: int64"
      ]
     },
     "execution_count": 48,
     "metadata": {},
     "output_type": "execute_result"
    }
   ],
   "source": [
    "df['label'].value_counts()"
   ]
  },
  {
   "cell_type": "code",
   "execution_count": 49,
   "id": "9c6cc612",
   "metadata": {},
   "outputs": [],
   "source": [
    "from sklearn.model_selection import train_test_split"
   ]
  },
  {
   "cell_type": "code",
   "execution_count": 50,
   "id": "ab22daae",
   "metadata": {},
   "outputs": [],
   "source": [
    "X = df['review'] # Feature\n",
    "y = df['label'] # Target or label"
   ]
  },
  {
   "cell_type": "code",
   "execution_count": 54,
   "id": "c70068a8",
   "metadata": {},
   "outputs": [
    {
     "data": {
      "text/plain": [
       "(1356,)"
      ]
     },
     "execution_count": 54,
     "metadata": {},
     "output_type": "execute_result"
    }
   ],
   "source": [
    "X_train.shape"
   ]
  },
  {
   "cell_type": "code",
   "execution_count": 55,
   "id": "2a923541",
   "metadata": {},
   "outputs": [
    {
     "data": {
      "text/plain": [
       "(582,)"
      ]
     },
     "execution_count": 55,
     "metadata": {},
     "output_type": "execute_result"
    }
   ],
   "source": [
    "X_test.shape"
   ]
  },
  {
   "cell_type": "code",
   "execution_count": 51,
   "id": "d7e0fcdc",
   "metadata": {},
   "outputs": [],
   "source": [
    "X_train, X_test, y_train, y_test = train_test_split(X, y, test_size=0.3, random_state=42)"
   ]
  },
  {
   "cell_type": "code",
   "execution_count": 52,
   "id": "a60def45",
   "metadata": {
    "collapsed": true
   },
   "outputs": [
    {
     "name": "stderr",
     "output_type": "stream",
     "text": [
      "C:\\ProgramData\\Anaconda3\\envs\\nlp_course\\lib\\site-packages\\sklearn\\feature_extraction\\image.py:167: DeprecationWarning: `np.int` is a deprecated alias for the builtin `int`. To silence this warning, use `int` by itself. Doing this will not modify any behavior and is safe. When replacing `np.int`, you may wish to use e.g. `np.int64` or `np.int32` to specify the precision. If you wish to review your current use, check the release note link for additional information.\n",
      "Deprecated in NumPy 1.20; for more details and guidance: https://numpy.org/devdocs/release/1.20.0-notes.html#deprecations\n",
      "  dtype=np.int):\n",
      "C:\\ProgramData\\Anaconda3\\envs\\nlp_course\\lib\\site-packages\\sklearn\\linear_model\\least_angle.py:35: DeprecationWarning: `np.float` is a deprecated alias for the builtin `float`. To silence this warning, use `float` by itself. Doing this will not modify any behavior and is safe. If you specifically wanted the numpy scalar type, use `np.float64` here.\n",
      "Deprecated in NumPy 1.20; for more details and guidance: https://numpy.org/devdocs/release/1.20.0-notes.html#deprecations\n",
      "  eps=np.finfo(np.float).eps,\n",
      "C:\\ProgramData\\Anaconda3\\envs\\nlp_course\\lib\\site-packages\\sklearn\\linear_model\\least_angle.py:597: DeprecationWarning: `np.float` is a deprecated alias for the builtin `float`. To silence this warning, use `float` by itself. Doing this will not modify any behavior and is safe. If you specifically wanted the numpy scalar type, use `np.float64` here.\n",
      "Deprecated in NumPy 1.20; for more details and guidance: https://numpy.org/devdocs/release/1.20.0-notes.html#deprecations\n",
      "  eps=np.finfo(np.float).eps, copy_X=True, fit_path=True,\n",
      "C:\\ProgramData\\Anaconda3\\envs\\nlp_course\\lib\\site-packages\\sklearn\\linear_model\\least_angle.py:836: DeprecationWarning: `np.float` is a deprecated alias for the builtin `float`. To silence this warning, use `float` by itself. Doing this will not modify any behavior and is safe. If you specifically wanted the numpy scalar type, use `np.float64` here.\n",
      "Deprecated in NumPy 1.20; for more details and guidance: https://numpy.org/devdocs/release/1.20.0-notes.html#deprecations\n",
      "  eps=np.finfo(np.float).eps, copy_X=True, fit_path=True,\n",
      "C:\\ProgramData\\Anaconda3\\envs\\nlp_course\\lib\\site-packages\\sklearn\\linear_model\\least_angle.py:862: DeprecationWarning: `np.float` is a deprecated alias for the builtin `float`. To silence this warning, use `float` by itself. Doing this will not modify any behavior and is safe. If you specifically wanted the numpy scalar type, use `np.float64` here.\n",
      "Deprecated in NumPy 1.20; for more details and guidance: https://numpy.org/devdocs/release/1.20.0-notes.html#deprecations\n",
      "  eps=np.finfo(np.float).eps, positive=False):\n",
      "C:\\ProgramData\\Anaconda3\\envs\\nlp_course\\lib\\site-packages\\sklearn\\linear_model\\least_angle.py:1097: DeprecationWarning: `np.float` is a deprecated alias for the builtin `float`. To silence this warning, use `float` by itself. Doing this will not modify any behavior and is safe. If you specifically wanted the numpy scalar type, use `np.float64` here.\n",
      "Deprecated in NumPy 1.20; for more details and guidance: https://numpy.org/devdocs/release/1.20.0-notes.html#deprecations\n",
      "  max_n_alphas=1000, n_jobs=None, eps=np.finfo(np.float).eps,\n",
      "C:\\ProgramData\\Anaconda3\\envs\\nlp_course\\lib\\site-packages\\sklearn\\linear_model\\least_angle.py:1344: DeprecationWarning: `np.float` is a deprecated alias for the builtin `float`. To silence this warning, use `float` by itself. Doing this will not modify any behavior and is safe. If you specifically wanted the numpy scalar type, use `np.float64` here.\n",
      "Deprecated in NumPy 1.20; for more details and guidance: https://numpy.org/devdocs/release/1.20.0-notes.html#deprecations\n",
      "  max_n_alphas=1000, n_jobs=None, eps=np.finfo(np.float).eps,\n",
      "C:\\ProgramData\\Anaconda3\\envs\\nlp_course\\lib\\site-packages\\sklearn\\linear_model\\least_angle.py:1480: DeprecationWarning: `np.float` is a deprecated alias for the builtin `float`. To silence this warning, use `float` by itself. Doing this will not modify any behavior and is safe. If you specifically wanted the numpy scalar type, use `np.float64` here.\n",
      "Deprecated in NumPy 1.20; for more details and guidance: https://numpy.org/devdocs/release/1.20.0-notes.html#deprecations\n",
      "  eps=np.finfo(np.float).eps, copy_X=True, positive=False):\n",
      "C:\\ProgramData\\Anaconda3\\envs\\nlp_course\\lib\\site-packages\\sklearn\\linear_model\\randomized_l1.py:152: DeprecationWarning: `np.float` is a deprecated alias for the builtin `float`. To silence this warning, use `float` by itself. Doing this will not modify any behavior and is safe. If you specifically wanted the numpy scalar type, use `np.float64` here.\n",
      "Deprecated in NumPy 1.20; for more details and guidance: https://numpy.org/devdocs/release/1.20.0-notes.html#deprecations\n",
      "  precompute=False, eps=np.finfo(np.float).eps,\n",
      "C:\\ProgramData\\Anaconda3\\envs\\nlp_course\\lib\\site-packages\\sklearn\\linear_model\\randomized_l1.py:320: DeprecationWarning: `np.float` is a deprecated alias for the builtin `float`. To silence this warning, use `float` by itself. Doing this will not modify any behavior and is safe. If you specifically wanted the numpy scalar type, use `np.float64` here.\n",
      "Deprecated in NumPy 1.20; for more details and guidance: https://numpy.org/devdocs/release/1.20.0-notes.html#deprecations\n",
      "  eps=np.finfo(np.float).eps, random_state=None,\n",
      "C:\\ProgramData\\Anaconda3\\envs\\nlp_course\\lib\\site-packages\\sklearn\\linear_model\\randomized_l1.py:580: DeprecationWarning: `np.float` is a deprecated alias for the builtin `float`. To silence this warning, use `float` by itself. Doing this will not modify any behavior and is safe. If you specifically wanted the numpy scalar type, use `np.float64` here.\n",
      "Deprecated in NumPy 1.20; for more details and guidance: https://numpy.org/devdocs/release/1.20.0-notes.html#deprecations\n",
      "  eps=4 * np.finfo(np.float).eps, n_jobs=None,\n"
     ]
    }
   ],
   "source": [
    "from sklearn.pipeline import Pipeline\n",
    "from sklearn.feature_extraction.text import TfidfVectorizer\n",
    "from sklearn.naive_bayes import MultinomialNB\n",
    "from sklearn.svm import LinearSVC"
   ]
  },
  {
   "cell_type": "code",
   "execution_count": 57,
   "id": "e7175257",
   "metadata": {},
   "outputs": [],
   "source": [
    "def create_model(vectorizer,model,X_train, y_train):\n",
    "    text_clf = Pipeline([('vectorizer',vectorizer),('clf', model)])\n",
    "    text_clf.fit(X_train, y_train)\n",
    "    return text_clf"
   ]
  },
  {
   "cell_type": "code",
   "execution_count": 58,
   "id": "bca36e58",
   "metadata": {},
   "outputs": [],
   "source": [
    "text_clf_nb = create_model(TfidfVectorizer(), MultinomialNB(),X_train,y_train)"
   ]
  },
  {
   "cell_type": "code",
   "execution_count": 60,
   "id": "14597ad1",
   "metadata": {},
   "outputs": [],
   "source": [
    "from sklearn.metrics import classification_report, confusion_matrix, accuracy_score"
   ]
  },
  {
   "cell_type": "code",
   "execution_count": 61,
   "id": "d65c8584",
   "metadata": {
    "scrolled": true
   },
   "outputs": [],
   "source": [
    "def test_model(model,X_test, y_test):\n",
    "    prediction = model.predict(X_test)\n",
    "    y_ = [y_test, prediction]\n",
    "    print(confusion_matrix(*y_))\n",
    "    print(classification_report(*y_))\n",
    "    print(f\"Accuracy {accuracy_score(*y_)*100:.2f}%\")"
   ]
  },
  {
   "cell_type": "code",
   "execution_count": 63,
   "id": "f2eda341",
   "metadata": {},
   "outputs": [
    {
     "name": "stdout",
     "output_type": "stream",
     "text": [
      "[[259  23]\n",
      " [102 198]]\n",
      "              precision    recall  f1-score   support\n",
      "\n",
      "         neg       0.72      0.92      0.81       282\n",
      "         pos       0.90      0.66      0.76       300\n",
      "\n",
      "   micro avg       0.79      0.79      0.79       582\n",
      "   macro avg       0.81      0.79      0.78       582\n",
      "weighted avg       0.81      0.79      0.78       582\n",
      "\n",
      "Accuracy 78.52%\n"
     ]
    }
   ],
   "source": [
    "test_model(text_clf_nb,X_test, y_test)"
   ]
  },
  {
   "cell_type": "code",
   "execution_count": 64,
   "id": "0f478694",
   "metadata": {
    "scrolled": true
   },
   "outputs": [
    {
     "name": "stdout",
     "output_type": "stream",
     "text": [
      "[[235  47]\n",
      " [ 41 259]]\n",
      "              precision    recall  f1-score   support\n",
      "\n",
      "         neg       0.85      0.83      0.84       282\n",
      "         pos       0.85      0.86      0.85       300\n",
      "\n",
      "   micro avg       0.85      0.85      0.85       582\n",
      "   macro avg       0.85      0.85      0.85       582\n",
      "weighted avg       0.85      0.85      0.85       582\n",
      "\n",
      "Accuracy 84.88%\n"
     ]
    },
    {
     "name": "stderr",
     "output_type": "stream",
     "text": [
      "C:\\ProgramData\\Anaconda3\\envs\\nlp_course\\lib\\site-packages\\sklearn\\linear_model\\base.py:283: DeprecationWarning: `np.int` is a deprecated alias for the builtin `int`. To silence this warning, use `int` by itself. Doing this will not modify any behavior and is safe. When replacing `np.int`, you may wish to use e.g. `np.int64` or `np.int32` to specify the precision. If you wish to review your current use, check the release note link for additional information.\n",
      "Deprecated in NumPy 1.20; for more details and guidance: https://numpy.org/devdocs/release/1.20.0-notes.html#deprecations\n",
      "  indices = (scores > 0).astype(np.int)\n"
     ]
    }
   ],
   "source": [
    "text_clf_lsvc = create_model(TfidfVectorizer(), LinearSVC(), X_train, y_train)\n",
    "test_model(text_clf_lsvc, X_test, y_test)"
   ]
  },
  {
   "cell_type": "code",
   "execution_count": 65,
   "id": "617cb2ba",
   "metadata": {},
   "outputs": [
    {
     "name": "stdout",
     "output_type": "stream",
     "text": [
      "frozenset({'enough', 'are', 'and', 'nobody', 'hereafter', 'yourself', 'then', 'yourselves', 'ourselves', 'never', 'three', 'namely', 'however', 'every', 'system', 'her', 'mostly', 'of', 'me', 'where', 'seem', 'side', 'yet', 'becoming', 'whole', 'it', 'mine', 'couldnt', 'some', 'only', 'how', 'more', 'along', 'somewhere', 'up', 'though', 'my', 'himself', 'most', 'next', 'you', 'any', 'therefore', 'into', 'by', 'there', 'out', 'such', 'forty', 'keep', 'sixty', 'although', 'yours', 'thus', 'sometimes', 'be', 'she', 'thereafter', 'he', 'give', 'full', 'un', 'hundred', 'sincere', 'their', 'please', 'might', 'within', 'herself', 'between', 'hence', 'call', 'again', 'him', 'always', 'can', 'fifty', 'our', 'empty', 'hereupon', 'from', 'around', 'another', 'eight', 'via', 'together', 'top', 'wherever', 'would', 'once', 'eleven', 'had', 'off', 'name', 'what', 'whose', 'being', 'for', 'before', 'nevertheless', 'toward', 'during', 'seeming', 'other', 'they', 'beyond', 'twenty', 'against', 'due', 'each', 'someone', 'since', 'whereas', 'whither', 'cannot', 'to', 'may', 'all', 'few', 'with', 'through', 'noone', 'thin', 'under', 'seemed', 'its', 'serious', 'whom', 'that', 'whoever', 'if', 'find', 'sometime', 'found', 'us', 'take', 'who', 'beside', 'these', 'cant', 'move', 'third', 'somehow', 'last', 'too', 'else', 'latterly', 'am', 'must', 'your', 'but', 'itself', 'go', 'herein', 'as', 'thru', 'cry', 'no', 'after', 'them', 'ours', 'still', 'fill', 'whereafter', 'except', 'already', 'or', 'almost', 'hers', 'amoungst', 'latter', 'seems', 'hasnt', 'now', 'twelve', 'has', 'could', 'whereupon', 'without', 'in', 'etc', 'fifteen', 'ever', 'four', 'made', 'myself', 'becomes', 'than', 'often', 'became', 'indeed', 'both', 'which', 'because', 'while', 'nowhere', 'the', 'why', 'about', 'moreover', 'much', 'show', 'amount', 'perhaps', 'thence', 'across', 'none', 'was', 'per', 'anyway', 'alone', 'an', 'back', 'afterwards', 'wherein', 'see', 'detail', 'several', 'this', 'on', 'something', 'one', 'amongst', 'whatever', 'bottom', 'done', 'down', 'anything', 'is', 'his', 'so', 'a', 'same', 'least', 'will', 'therein', 'hereby', 'otherwise', 'whenever', 'everyone', 'have', 'nor', 'besides', 'towards', 'over', 'even', 'anywhere', 'bill', 'neither', 'whereby', 'either', 'thereupon', 'mill', 'until', 'many', 'do', 'onto', 'two', 'well', 'been', 'above', 'de', 'front', 'were', 'former', 'whence', 'should', 're', 'co', 'first', 'eg', 'rather', 'further', 'thereby', 'beforehand', 'ltd', 'whether', 'nine', 'upon', 'when', 'not', 'five', 'put', 'formerly', 'anyhow', 'everywhere', 'very', 'nothing', 'part', 'less', 'own', 'also', 'thick', 'con', 'throughout', 'i', 'we', 'meanwhile', 'here', 'describe', 'six', 'among', 'behind', 'elsewhere', 'everything', 'get', 'those', 'fire', 'ten', 'below', 'inc', 'ie', 'others', 'themselves', 'anyone', 'become', 'at', 'interest'})\n"
     ]
    }
   ],
   "source": [
    "from sklearn.feature_extraction import text\n",
    "print(text.ENGLISH_STOP_WORDS)"
   ]
  },
  {
   "cell_type": "code",
   "execution_count": 66,
   "id": "343ba312",
   "metadata": {},
   "outputs": [],
   "source": [
    "stopwords = ['a', 'about', 'an', 'and', 'are', 'as', 'at', 'be', 'been', 'but', 'by', 'can', \\\n",
    "             'even', 'ever', 'for', 'from', 'get', 'had', 'has', 'have', 'he', 'her', 'hers', 'his', \\\n",
    "             'how', 'i', 'if', 'in', 'into', 'is', 'it', 'its', 'just', 'me', 'my', 'of', 'on', 'or', \\\n",
    "             'see', 'seen', 'she', 'so', 'than', 'that', 'the', 'their', 'there', 'they', 'this', \\\n",
    "             'to', 'was', 'we', 'were', 'what', 'when', 'which', 'who', 'will', 'with', 'you']"
   ]
  },
  {
   "cell_type": "code",
   "execution_count": 73,
   "id": "2d35ef44",
   "metadata": {},
   "outputs": [],
   "source": [
    "import time"
   ]
  },
  {
   "cell_type": "code",
   "execution_count": 76,
   "id": "f07c9952",
   "metadata": {},
   "outputs": [],
   "source": [
    "def train_test_model(vectorizer,model,X_train,y_train, X_test, y_test):\n",
    "    t = time.time()\n",
    "    text_clf = create_model(vectorizer, model, X_train, y_train)\n",
    "    test_model(text_clf, X_test, y_test)\n",
    "    print(f\"Time taken: {time.time()-t:.2f} seconds\")\n",
    "    return text_clf"
   ]
  },
  {
   "cell_type": "code",
   "execution_count": 77,
   "id": "4ede8c1c",
   "metadata": {},
   "outputs": [
    {
     "name": "stdout",
     "output_type": "stream",
     "text": [
      "[[249  33]\n",
      " [ 78 222]]\n",
      "              precision    recall  f1-score   support\n",
      "\n",
      "         neg       0.76      0.88      0.82       282\n",
      "         pos       0.87      0.74      0.80       300\n",
      "\n",
      "   micro avg       0.81      0.81      0.81       582\n",
      "   macro avg       0.82      0.81      0.81       582\n",
      "weighted avg       0.82      0.81      0.81       582\n",
      "\n",
      "Accuracy 80.93%\n",
      "Time taken: 0.80 seconds\n"
     ]
    }
   ],
   "source": [
    "text_clf = train_test_model(TfidfVectorizer(stop_words=stopwords), MultinomialNB(),X_train, y_train, X_test, y_test)"
   ]
  },
  {
   "cell_type": "code",
   "execution_count": 81,
   "id": "c37bc605",
   "metadata": {},
   "outputs": [
    {
     "name": "stdout",
     "output_type": "stream",
     "text": [
      "[[259  23]\n",
      " [102 198]]\n",
      "              precision    recall  f1-score   support\n",
      "\n",
      "         neg       0.72      0.92      0.81       282\n",
      "         pos       0.90      0.66      0.76       300\n",
      "\n",
      "   micro avg       0.79      0.79      0.79       582\n",
      "   macro avg       0.81      0.79      0.78       582\n",
      "weighted avg       0.81      0.79      0.78       582\n",
      "\n",
      "Accuracy 78.52%\n",
      "Time taken: 0.82 seconds\n"
     ]
    }
   ],
   "source": [
    "text_clf = train_test_model(TfidfVectorizer(), MultinomialNB(),X_train, y_train, X_test, y_test)"
   ]
  },
  {
   "cell_type": "code",
   "execution_count": 82,
   "id": "13f7f64b",
   "metadata": {},
   "outputs": [
    {
     "name": "stdout",
     "output_type": "stream",
     "text": [
      "[[233  49]\n",
      " [ 43 257]]\n",
      "              precision    recall  f1-score   support\n",
      "\n",
      "         neg       0.84      0.83      0.84       282\n",
      "         pos       0.84      0.86      0.85       300\n",
      "\n",
      "   micro avg       0.84      0.84      0.84       582\n",
      "   macro avg       0.84      0.84      0.84       582\n",
      "weighted avg       0.84      0.84      0.84       582\n",
      "\n",
      "Accuracy 84.19%\n",
      "Time taken: 0.84 seconds\n"
     ]
    },
    {
     "name": "stderr",
     "output_type": "stream",
     "text": [
      "C:\\ProgramData\\Anaconda3\\envs\\nlp_course\\lib\\site-packages\\sklearn\\linear_model\\base.py:283: DeprecationWarning: `np.int` is a deprecated alias for the builtin `int`. To silence this warning, use `int` by itself. Doing this will not modify any behavior and is safe. When replacing `np.int`, you may wish to use e.g. `np.int64` or `np.int32` to specify the precision. If you wish to review your current use, check the release note link for additional information.\n",
      "Deprecated in NumPy 1.20; for more details and guidance: https://numpy.org/devdocs/release/1.20.0-notes.html#deprecations\n",
      "  indices = (scores > 0).astype(np.int)\n"
     ]
    }
   ],
   "source": [
    "text_clf = train_test_model(TfidfVectorizer(stop_words=stopwords), LinearSVC(),X_train, y_train, X_test, y_test)"
   ]
  },
  {
   "cell_type": "code",
   "execution_count": 80,
   "id": "4e798293",
   "metadata": {},
   "outputs": [
    {
     "name": "stdout",
     "output_type": "stream",
     "text": [
      "[[235  47]\n",
      " [ 41 259]]\n",
      "              precision    recall  f1-score   support\n",
      "\n",
      "         neg       0.85      0.83      0.84       282\n",
      "         pos       0.85      0.86      0.85       300\n",
      "\n",
      "   micro avg       0.85      0.85      0.85       582\n",
      "   macro avg       0.85      0.85      0.85       582\n",
      "weighted avg       0.85      0.85      0.85       582\n",
      "\n",
      "Accuracy 84.88%\n",
      "Time taken: 0.85 seconds\n"
     ]
    },
    {
     "name": "stderr",
     "output_type": "stream",
     "text": [
      "C:\\ProgramData\\Anaconda3\\envs\\nlp_course\\lib\\site-packages\\sklearn\\linear_model\\base.py:283: DeprecationWarning: `np.int` is a deprecated alias for the builtin `int`. To silence this warning, use `int` by itself. Doing this will not modify any behavior and is safe. When replacing `np.int`, you may wish to use e.g. `np.int64` or `np.int32` to specify the precision. If you wish to review your current use, check the release note link for additional information.\n",
      "Deprecated in NumPy 1.20; for more details and guidance: https://numpy.org/devdocs/release/1.20.0-notes.html#deprecations\n",
      "  indices = (scores > 0).astype(np.int)\n"
     ]
    }
   ],
   "source": [
    "text_clf = train_test_model(TfidfVectorizer(), LinearSVC(),X_train, y_train, X_test, y_test)"
   ]
  },
  {
   "cell_type": "code",
   "execution_count": null,
   "id": "2cd63d82",
   "metadata": {},
   "outputs": [],
   "source": []
  }
 ],
 "metadata": {
  "kernelspec": {
   "display_name": "nlp_course",
   "language": "python",
   "name": "nlp_course"
  },
  "language_info": {
   "codemirror_mode": {
    "name": "ipython",
    "version": 3
   },
   "file_extension": ".py",
   "mimetype": "text/x-python",
   "name": "python",
   "nbconvert_exporter": "python",
   "pygments_lexer": "ipython3",
   "version": "3.7.11"
  }
 },
 "nbformat": 4,
 "nbformat_minor": 5
}
